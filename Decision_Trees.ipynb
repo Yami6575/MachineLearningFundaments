{
 "cells": [
  {
   "cell_type": "markdown",
   "id": "cc57a797",
   "metadata": {},
   "source": [
    "Entorpy Calculation"
   ]
  },
  {
   "cell_type": "code",
   "execution_count": 38,
   "id": "d9bd79ef",
   "metadata": {},
   "outputs": [],
   "source": [
    "import numpy as np"
   ]
  },
  {
   "cell_type": "code",
   "execution_count": 39,
   "id": "8c25fac6",
   "metadata": {},
   "outputs": [],
   "source": [
    "Y=np.array([1,0,0,1,0,1,0,1])"
   ]
  },
  {
   "cell_type": "code",
   "execution_count": 40,
   "id": "be83f411",
   "metadata": {},
   "outputs": [],
   "source": [
    "def entropy(var):\n",
    "    n=var.shape[0]\n",
    "    values,counts=np.unique(var,return_counts=True)\n",
    "    ent=0\n",
    "    for i in counts:\n",
    "        p=i/n\n",
    "        ent+=p*np.log2(p)\n",
    "    return -ent\n",
    "    \n",
    "        "
   ]
  },
  {
   "cell_type": "code",
   "execution_count": 41,
   "id": "bb52e10c",
   "metadata": {},
   "outputs": [],
   "source": [
    "Y = np.array([1,0,0,1,0,1,0,1])\n"
   ]
  },
  {
   "cell_type": "code",
   "execution_count": 42,
   "id": "f2d6f0ef",
   "metadata": {},
   "outputs": [
    {
     "data": {
      "text/plain": [
       "1.0"
      ]
     },
     "execution_count": 42,
     "metadata": {},
     "output_type": "execute_result"
    }
   ],
   "source": [
    "entropy(Y)"
   ]
  },
  {
   "cell_type": "code",
   "execution_count": 43,
   "id": "e70b92be",
   "metadata": {},
   "outputs": [],
   "source": [
    "X = np.array([1,1,1,1,1,1,1])"
   ]
  },
  {
   "cell_type": "code",
   "execution_count": 44,
   "id": "7efe86a8",
   "metadata": {},
   "outputs": [
    {
     "data": {
      "text/plain": [
       "-0.0"
      ]
     },
     "execution_count": 44,
     "metadata": {},
     "output_type": "execute_result"
    }
   ],
   "source": [
    "entropy(X)"
   ]
  },
  {
   "cell_type": "markdown",
   "id": "376cdec3",
   "metadata": {},
   "source": [
    "# Split Data"
   ]
  },
  {
   "cell_type": "code",
   "execution_count": 45,
   "id": "59b1af4e",
   "metadata": {},
   "outputs": [],
   "source": [
    "import pandas as pd"
   ]
  },
  {
   "cell_type": "code",
   "execution_count": 46,
   "id": "4e720793",
   "metadata": {},
   "outputs": [],
   "source": [
    "df = pd.read_csv('golf.csv')"
   ]
  },
  {
   "cell_type": "code",
   "execution_count": 47,
   "id": "bb0862ef",
   "metadata": {},
   "outputs": [
    {
     "data": {
      "text/html": [
       "<div>\n",
       "<style scoped>\n",
       "    .dataframe tbody tr th:only-of-type {\n",
       "        vertical-align: middle;\n",
       "    }\n",
       "\n",
       "    .dataframe tbody tr th {\n",
       "        vertical-align: top;\n",
       "    }\n",
       "\n",
       "    .dataframe thead th {\n",
       "        text-align: right;\n",
       "    }\n",
       "</style>\n",
       "<table border=\"1\" class=\"dataframe\">\n",
       "  <thead>\n",
       "    <tr style=\"text-align: right;\">\n",
       "      <th></th>\n",
       "      <th>Outlook</th>\n",
       "      <th>Temperature</th>\n",
       "      <th>Humidity</th>\n",
       "      <th>Windy</th>\n",
       "      <th>Play</th>\n",
       "    </tr>\n",
       "  </thead>\n",
       "  <tbody>\n",
       "    <tr>\n",
       "      <th>0</th>\n",
       "      <td>sunny</td>\n",
       "      <td>hot</td>\n",
       "      <td>high</td>\n",
       "      <td>False</td>\n",
       "      <td>no</td>\n",
       "    </tr>\n",
       "    <tr>\n",
       "      <th>1</th>\n",
       "      <td>sunny</td>\n",
       "      <td>hot</td>\n",
       "      <td>high</td>\n",
       "      <td>True</td>\n",
       "      <td>no</td>\n",
       "    </tr>\n",
       "    <tr>\n",
       "      <th>2</th>\n",
       "      <td>overcast</td>\n",
       "      <td>hot</td>\n",
       "      <td>high</td>\n",
       "      <td>False</td>\n",
       "      <td>yes</td>\n",
       "    </tr>\n",
       "    <tr>\n",
       "      <th>3</th>\n",
       "      <td>rainy</td>\n",
       "      <td>mild</td>\n",
       "      <td>high</td>\n",
       "      <td>False</td>\n",
       "      <td>yes</td>\n",
       "    </tr>\n",
       "    <tr>\n",
       "      <th>4</th>\n",
       "      <td>rainy</td>\n",
       "      <td>cool</td>\n",
       "      <td>normal</td>\n",
       "      <td>False</td>\n",
       "      <td>yes</td>\n",
       "    </tr>\n",
       "  </tbody>\n",
       "</table>\n",
       "</div>"
      ],
      "text/plain": [
       "    Outlook Temperature Humidity  Windy Play\n",
       "0     sunny         hot     high  False   no\n",
       "1     sunny         hot     high   True   no\n",
       "2  overcast         hot     high  False  yes\n",
       "3     rainy        mild     high  False  yes\n",
       "4     rainy        cool   normal  False  yes"
      ]
     },
     "execution_count": 47,
     "metadata": {},
     "output_type": "execute_result"
    }
   ],
   "source": [
    "df.head()"
   ]
  },
  {
   "cell_type": "code",
   "execution_count": 50,
   "id": "c978de24",
   "metadata": {},
   "outputs": [],
   "source": [
    "def divide_data(data, feature):\n",
    "    # here we are working data frames.\n",
    "    \n",
    "    DATA = {}\n",
    "    \n",
    "    feat_values = list(data[feature].value_counts().index)\n",
    "    occurence = list(data[feature].value_counts())\n",
    "    \n",
    "    for val in feat_values:\n",
    "        DATA[val] = {'data' : pd.DataFrame([], columns = data.columns), 'len': 0}\n",
    "        \n",
    "        \n",
    "    for ix in range(data.shape[0]):\n",
    "        val = data[feature].iloc[ix]\n",
    "        \n",
    "        DATA[val]['data'] = DATA[val]['data'].append(data.iloc[ix])\n",
    "        \n",
    "        idx = feat_values.index(val)\n",
    "        DATA[val]['len']  = occurence[idx]\n",
    "    \n",
    "    return DATA"
   ]
  },
  {
   "cell_type": "code",
   "execution_count": 52,
   "id": "10906e65",
   "metadata": {},
   "outputs": [],
   "source": [
    "import pandas as pd\n",
    "\n",
    "def divide_data(data, feature):\n",
    "    DATA = {}\n",
    "    \n",
    "    feat_values = list(data[feature].value_counts().index)\n",
    "    occurence = list(data[feature].value_counts())\n",
    "    \n",
    "    for val in feat_values:\n",
    "        DATA[val] = {'data': pd.DataFrame(columns=data.columns), 'len': 0}\n",
    "        \n",
    "        \n",
    "    for ix in range(data.shape[0]):\n",
    "        val = data[feature].iloc[ix]\n",
    "        \n",
    "        row = pd.DataFrame(data.iloc[ix]).T\n",
    "        DATA[val]['data'] = pd.concat([DATA[val]['data'], row])\n",
    "        \n",
    "        idx = feat_values.index(val)\n",
    "        DATA[val]['len'] = occurence[idx]\n",
    "    \n",
    "    return DATA\n"
   ]
  },
  {
   "cell_type": "code",
   "execution_count": 53,
   "id": "1a366043",
   "metadata": {
    "scrolled": false
   },
   "outputs": [
    {
     "data": {
      "text/plain": [
       "{'sunny': {'data':    Outlook Temperature Humidity  Windy Play\n",
       "  0    sunny         hot     high  False   no\n",
       "  1    sunny         hot     high   True   no\n",
       "  7    sunny        mild     high  False   no\n",
       "  8    sunny        cool   normal  False  yes\n",
       "  10   sunny        mild   normal   True  yes,\n",
       "  'len': 5},\n",
       " 'rainy': {'data':    Outlook Temperature Humidity  Windy Play\n",
       "  3    rainy        mild     high  False  yes\n",
       "  4    rainy        cool   normal  False  yes\n",
       "  5    rainy        cool   normal   True   no\n",
       "  9    rainy        mild   normal  False  yes\n",
       "  13   rainy        mild     high   True   no,\n",
       "  'len': 5},\n",
       " 'overcast': {'data':      Outlook Temperature Humidity  Windy Play\n",
       "  2   overcast         hot     high  False  yes\n",
       "  6   overcast        cool   normal   True  yes\n",
       "  11  overcast        mild     high   True  yes\n",
       "  12  overcast         hot   normal  False  yes,\n",
       "  'len': 4}}"
      ]
     },
     "execution_count": 53,
     "metadata": {},
     "output_type": "execute_result"
    }
   ],
   "source": [
    "divide_data(df,'Outlook')"
   ]
  },
  {
   "cell_type": "code",
   "execution_count": 56,
   "id": "f2444ec6",
   "metadata": {},
   "outputs": [],
   "source": [
    "def information_gain(data, feature):\n",
    "    examples = data.shape[0]\n",
    "    \n",
    "    DATA = divide_data(data, feature)\n",
    "    \n",
    "    keys = DATA.keys()\n",
    "    \n",
    "    \n",
    "    ent_of_children = 0.0\n",
    "    \n",
    "    for key in keys:\n",
    "        ent_of_children +=  ( (DATA[key]['len']/examples) * entropy(DATA[key]['data']['Play']) )\n",
    "        \n",
    "    info_gain = entropy(data['Play']) - ent_of_children\n",
    "    return info_gain\n",
    "\n",
    "    "
   ]
  },
  {
   "cell_type": "code",
   "execution_count": 57,
   "id": "c34f1a31",
   "metadata": {},
   "outputs": [
    {
     "data": {
      "text/plain": [
       "0.04812703040826949"
      ]
     },
     "execution_count": 57,
     "metadata": {},
     "output_type": "execute_result"
    }
   ],
   "source": [
    "information_gain(df, 'Windy')"
   ]
  },
  {
   "cell_type": "markdown",
   "id": "d10aa13c",
   "metadata": {},
   "source": [
    "# Decision Trees"
   ]
  },
  {
   "cell_type": "code",
   "execution_count": null,
   "id": "ebc1a67b",
   "metadata": {},
   "outputs": [],
   "source": [
    "class DecisionTree:\n",
    "    def __init__(self,depth=0,max_depth=5):\n",
    "        self.children={}\n",
    "        self.fkey=None\n",
    "        self.max_depth=max_depth\n",
    "        self.depth=depth\n",
    "        target=None\n",
    "    def train(self,data):\n",
    "        features = ['Outlook', 'Temperature', 'Humidity', 'Windy']\n",
    "        info_gain=[]\n",
    "        for f in features:\n",
    "            i_gain = information_gain(data, f)\n",
    "            info_gains.append(i_gain)\n",
    "        self.fkey=features[np.argmax(info_gains)]\n",
    "        DATA=divide_data(data,fkey)\n",
    "    labels=list(data['Play'].value_counts().index)\n",
    "    freq=list(data['Play'].value_counts().value)\n",
    "    self.target=labels[np.argmax[freq]]\n",
    "    have_data=0\n",
    "    keys=DATA.keys()\n",
    "    for key in keys:\n",
    "        if DATA[key]['len']>0:\n",
    "            have_data+=1 \n",
    "            \n",
    "    if have_data<2:\n",
    "        return \n",
    "        \n",
    "    \n",
    "        \n",
    "    if(self.depth >= self.max_depth):\n",
    "        return\n",
    "    "
   ]
  },
  {
   "cell_type": "code",
   "execution_count": null,
   "id": "cd86e788",
   "metadata": {},
   "outputs": [],
   "source": []
  }
 ],
 "metadata": {
  "kernelspec": {
   "display_name": "Python 3 (ipykernel)",
   "language": "python",
   "name": "python3"
  },
  "language_info": {
   "codemirror_mode": {
    "name": "ipython",
    "version": 3
   },
   "file_extension": ".py",
   "mimetype": "text/x-python",
   "name": "python",
   "nbconvert_exporter": "python",
   "pygments_lexer": "ipython3",
   "version": "3.10.7"
  }
 },
 "nbformat": 4,
 "nbformat_minor": 5
}
